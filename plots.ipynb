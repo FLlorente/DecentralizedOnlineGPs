{
 "cells": [
  {
   "cell_type": "code",
   "execution_count": 1,
   "metadata": {},
   "outputs": [
    {
     "name": "stderr",
     "output_type": "stream",
     "text": [
      "/export/home/dwaxman/.local/lib/python3.10/site-packages/matplotlib/projections/__init__.py:63: UserWarning: Unable to import Axes3D. This may be due to multiple versions of Matplotlib being installed (e.g. as a system package and as a pip package). As a result, the 3D projection is not available.\n",
      "  warnings.warn(\"Unable to import Axes3D. This may be due to multiple versions of \"\n"
     ]
    }
   ],
   "source": [
    "import matplotlib.pyplot as plt\n",
    "import numpy as np\n",
    "from scipy.io import loadmat"
   ]
  },
  {
   "cell_type": "code",
   "execution_count": 2,
   "metadata": {},
   "outputs": [],
   "source": [
    "def set_box_color(bp, colors):\n",
    "    for i in range(len(colors)):\n",
    "        plt.setp(bp[\"boxes\"][i], color=colors[i])\n",
    "        plt.setp(bp[\"whiskers\"][2 * i], color=colors[i])\n",
    "        plt.setp(bp[\"whiskers\"][2 * i + 1], color=colors[i])\n",
    "        plt.setp(bp[\"caps\"][2 * i], color=colors[i])\n",
    "        plt.setp(bp[\"caps\"][2 * i + 1], color=colors[i])\n",
    "        plt.setp(bp[\"medians\"][i], color=colors[i])"
   ]
  },
  {
   "cell_type": "code",
   "execution_count": 3,
   "metadata": {},
   "outputs": [],
   "source": [
    "def get_dataset_results(d_name, N):\n",
    "    d = []\n",
    "    for i in range(5):\n",
    "        d.append(\n",
    "            np.load(f\"results/{d_name}_num_agents_{N}_seed_{i}_last_1000.npz\")[\n",
    "                \"arr_0\"\n",
    "            ].mean()\n",
    "        )\n",
    "\n",
    "    return np.stack(d)\n",
    "\n",
    "\n",
    "def get_dataset_results_dokl(d_name, N):\n",
    "    d = []\n",
    "    for i in range(5):\n",
    "        # d.append(np.load(f\"DOMKL_on_test_{d_name}_num_agents_{N}_seed_{i}.npz\")[\"mse_test\"])\n",
    "        d.append(\n",
    "            np.load(f\"results/DOMKL_{d_name}_num_agents_{N}_seed_{i}_last_1000.npz\")[\n",
    "                \"arr_0\"\n",
    "            ].mean()\n",
    "        )\n",
    "\n",
    "    return np.stack(d)\n",
    "\n",
    "\n",
    "def get_full_gp_results(d_name):\n",
    "    d = []\n",
    "    for i in range(5):\n",
    "        d.append(\n",
    "            np.load(f\"results/FullGP_{d_name}_seed_{i}_predict_last_1000.npz\")[\n",
    "                \"arr_0\"\n",
    "            ].mean()\n",
    "        )\n",
    "\n",
    "    return np.stack(d)\n",
    "\n",
    "\n",
    "twi_results = np.array(\n",
    "    [\n",
    "        get_full_gp_results(\"twi\"),\n",
    "        loadmat(\"results/adaraker_results_test_twi.mat\")[\"erm_test\"].squeeze(),\n",
    "        get_dataset_results(\"twi\", 1),\n",
    "        get_dataset_results(\"twi\", 5),\n",
    "        # get_dataset_results_dokl(\"twi\", 1),\n",
    "        get_dataset_results_dokl(\"twi\", 5),\n",
    "        np.repeat(\n",
    "            loadmat(\"results/npae_mse_test_twi_num_agents_5.mat\")[\"mse_test\"][0], 5\n",
    "        ),\n",
    "    ]\n",
    ").T\n",
    "tom_results = np.array(\n",
    "    [\n",
    "        get_full_gp_results(\"tom\"),\n",
    "        loadmat(\"results/adaraker_results_test_tom.mat\")[\"erm_test\"].squeeze(),\n",
    "        get_dataset_results(\"tom\", 1),\n",
    "        get_dataset_results(\"tom\", 5),\n",
    "        # get_dataset_results_dokl(\"tom\", 1),\n",
    "        get_dataset_results_dokl(\"tom\", 5),\n",
    "        np.repeat(\n",
    "            loadmat(\"results/npae_mse_test_tom_num_agents_5.mat\")[\"mse_test\"][0], 5\n",
    "        ),\n",
    "    ]\n",
    ").T\n",
    "energy_results = np.array(\n",
    "    [\n",
    "        get_full_gp_results(\"ene\"),\n",
    "        loadmat(\"results/adaraker_results_test_ene.mat\")[\"erm_test\"].squeeze(),\n",
    "        get_dataset_results(\"ene\", 1),\n",
    "        get_dataset_results(\"ene\", 5),\n",
    "        # get_dataset_results_dokl(\"ene\", 1),\n",
    "        get_dataset_results_dokl(\"ene\", 5),\n",
    "        np.repeat(\n",
    "            loadmat(\"results/npae_mse_test_ene_num_agents_5.mat\")[\"mse_test\"][0], 5\n",
    "        ),\n",
    "    ]\n",
    ").T\n",
    "\n",
    "nmse_results = [twi_results, tom_results, energy_results]"
   ]
  },
  {
   "cell_type": "code",
   "execution_count": 4,
   "metadata": {},
   "outputs": [
    {
     "name": "stdout",
     "output_type": "stream",
     "text": [
      "[0.00053124 0.01130854 0.00053884 0.00054293 0.00122612 0.00295804]\n",
      "[0.02949543 0.0352383  0.03054008 0.03054168 0.0526042  0.09561338]\n",
      "[0.00067784 0.00097172 0.00064975 0.00064987 0.00131952 0.00124218]\n"
     ]
    }
   ],
   "source": [
    "print(np.mean(tom_results, axis=0))\n",
    "print(np.mean(energy_results, axis=0))\n",
    "print(np.mean(twi_results, axis=0))"
   ]
  },
  {
   "cell_type": "code",
   "execution_count": 5,
   "metadata": {},
   "outputs": [],
   "source": [
    "datasets = [\"Twitter\", \"Tom's Hardware\", \"Energy\"]\n",
    "labels = [\"AdaRaker\", \"D-RF-GP-1\", \"D-RF-GP-5\", \"DOMKL-5\", \"NPAE\"]"
   ]
  },
  {
   "cell_type": "code",
   "execution_count": 6,
   "metadata": {},
   "outputs": [
    {
     "data": {
      "image/png": "[encoded data removed]",
      "text/plain": [
       "<Figure size 360x126 with 1 Axes>"
      ]
     },
     "metadata": {
      "needs_background": "light"
     },
     "output_type": "display_data"
    }
   ],
   "source": [
    "fig = plt.figure(figsize=(5, 1.75))\n",
    "ax = plt.subplot(111)\n",
    "\n",
    "ax.set_yscale(\"log\")\n",
    "ax.axhline(1, linestyle=\"--\", color=\"black\")\n",
    "# colors = [\"#A1C181\", \"#780116\"]\n",
    "colors = [\n",
    "    \"#A1C181\",  # Light Green\n",
    "    \"#780116\",  # Dark Red\n",
    "    \"#FF595E\",  # Coral\n",
    "    \"#1982C4\",  # Blue\n",
    "    \"#6A4C93\",  # Purple\n",
    "    \"#FFCA3A\",  # Yellow\n",
    "    \"#8AC926\",  # Lime Green\n",
    "    \"#FF8C42\",  # Orange\n",
    "    \"#3A86FF\",  # Bright Blue\n",
    "    \"#2EC4B6\",  # Teal\n",
    "]\n",
    "colors = colors[: len(labels)]\n",
    "\n",
    "for i, nmse_result in enumerate(nmse_results):\n",
    "\n",
    "    bp = ax.boxplot(\n",
    "        nmse_result[:, 1:] / nmse_result[:, 0:1],\n",
    "        positions=[i + 0.2 - 0.15 * j for j in range(len(nmse_result.T) - 1)],\n",
    "        sym=\"\",\n",
    "        widths=0.1,\n",
    "        autorange=True,\n",
    "    )\n",
    "    for element in [\"boxes\", \"whiskers\", \"caps\", \"medians\"]:\n",
    "        for line in bp[element]:\n",
    "            line.set_linewidth(1.5)  # Set desired linewidth\n",
    "    set_box_color(bp, colors)\n",
    "\n",
    "for color, label in zip(colors[::-1], labels[::-1]):\n",
    "    ax.plot([], [], color=color, label=label)\n",
    "\n",
    "# plt.xticks(rotation=-20)\n",
    "# ax.set_ylim([5e-1, 2e0])\n",
    "ax.set_xticks(range(len(datasets)), datasets)\n",
    "plt.xlim(-0.75, 2.5)\n",
    "\n",
    "box = ax.get_position()\n",
    "# ax.spines['top'].set_visible(False)\n",
    "# ax.spines['right'].set_visible(False)\n",
    "ax.set_position([box.x0, box.y0, box.width * 0.8, box.height])\n",
    "plt.xlabel(\" \")\n",
    "# ax.set_title(\"Average MSE w.r.t. SVI GP\")\n",
    "ax.set_ylabel(\"MSE Ratio\")\n",
    "ax.legend(loc=\"center left\", bbox_to_anchor=(1, 0.5), frameon=False)\n",
    "plt.savefig(\"all_results.pdf\", bbox_inches=\"tight\")"
   ]
  },
  {
   "cell_type": "markdown",
   "metadata": {},
   "source": [
    "# Online Results"
   ]
  },
  {
   "cell_type": "code",
   "execution_count": 7,
   "metadata": {},
   "outputs": [],
   "source": [
    "dataset = \"tom\""
   ]
  },
  {
   "cell_type": "code",
   "execution_count": 8,
   "metadata": {},
   "outputs": [],
   "source": [
    "results_adaraker = loadmat(f\"resuls_{dataset}_3ells.mat\")"
   ]
  },
  {
   "cell_type": "code",
   "execution_count": 9,
   "metadata": {},
   "outputs": [],
   "source": [
    "# Update adaraker_results to use only every N_max'th data point\n",
    "N_max = 5\n",
    "\n",
    "adaraker_results = results_adaraker[\"erm_rf\"].squeeze()\n",
    "\n",
    "adaraker_mses = np.diff(\n",
    "    np.insert(np.arange(1, len(adaraker_results) + 1) * adaraker_results, 0, 0)\n",
    ")\n",
    "adaraker_results = np.cumsum(adaraker_mses[::5]) / np.arange(\n",
    "    1, len(adaraker_mses[::N_max]) + 1\n",
    ")"
   ]
  },
  {
   "cell_type": "code",
   "execution_count": 10,
   "metadata": {},
   "outputs": [
    {
     "data": {
      "image/png": "[encoded data removed]",
      "text/plain": [
       "<Figure size 252x126 with 1 Axes>"
      ]
     },
     "metadata": {
      "needs_background": "light"
     },
     "output_type": "display_data"
    }
   ],
   "source": [
    "fig = plt.figure(figsize=(3.5, 1.75))\n",
    "ax = plt.subplot(111)\n",
    "\n",
    "###########################\n",
    "######### DRFGP-1 #########\n",
    "###########################\n",
    "results = []\n",
    "# Load in results for each seed\n",
    "for seed in range(5):\n",
    "    result = np.load(\n",
    "        f\"results/{dataset}_num_agents_1_seed_{seed}_L_1_graph_alpha_0.1_every_five.npz\"\n",
    "    )[\"arr_0\"]\n",
    "    results.append(result)\n",
    "\n",
    "# Convert to numpy array\n",
    "results = np.array(results)\n",
    "\n",
    "# Plot with semilog axes\n",
    "plt.semilogy(\n",
    "    np.arange(1, results.shape[1] * N_max, N_max),\n",
    "    np.median(results, 0),\n",
    "    label=\"DRFGP-1\",\n",
    "    color=colors[1],\n",
    ")\n",
    "plt.fill_between(\n",
    "    np.arange(1, results.shape[1] * N_max, N_max),\n",
    "    np.quantile(results, 0.95, axis=0),\n",
    "    np.quantile(results, 0.05, axis=0),\n",
    "    alpha=0.3,\n",
    "    color=colors[1],\n",
    ")\n",
    "\n",
    "\n",
    "###########################\n",
    "######### DRFGP-5 #########\n",
    "###########################\n",
    "results = []\n",
    "# Load in results for each seed\n",
    "for seed in range(5):\n",
    "    result = np.load(\n",
    "        f\"results/{dataset}_num_agents_5_seed_{seed}_L_10_graph_alpha_0.25_every_five.npz\"\n",
    "    )[\"arr_0\"]\n",
    "    results.append(result)\n",
    "\n",
    "# Convert to numpy array\n",
    "results = np.array(results)\n",
    "\n",
    "# Plot with semilog axes\n",
    "plt.semilogy(\n",
    "    np.arange(1, results.shape[1] * N_max, N_max),\n",
    "    np.median(results, 0),\n",
    "    label=\"DRFGP-5\",\n",
    "    color=colors[2],\n",
    "    ls=\"dashed\",\n",
    ")\n",
    "plt.fill_between(\n",
    "    np.arange(1, results.shape[1] * N_max, N_max),\n",
    "    np.quantile(results, 0.95, axis=0),\n",
    "    np.quantile(results, 0.05, axis=0),\n",
    "    alpha=0.3,\n",
    "    color=colors[2],\n",
    ")\n",
    "\n",
    "###########################\n",
    "######### DOMKL-5 #########\n",
    "###########################\n",
    "results = []\n",
    "# Load in results for each seed\n",
    "for seed in range(5):\n",
    "    result = np.load(f\"results/DOMKL_{dataset}_num_agents_5_seed_{i}.npz\")[\n",
    "        \"running_errs\"\n",
    "    ]\n",
    "    results.append(result)\n",
    "\n",
    "# Convert to numpy array\n",
    "results = np.array(results)\n",
    "\n",
    "# Plot with semilog axes\n",
    "plt.semilogy(\n",
    "    np.arange(1, results.shape[1] * N_max, N_max),\n",
    "    np.median(results, 0),\n",
    "    label=\"DOMKL-5\",\n",
    "    ls=\"dashed\",\n",
    "    color=colors[3],\n",
    ")\n",
    "plt.fill_between(\n",
    "    np.arange(1, results.shape[1] * N_max, N_max),\n",
    "    np.quantile(results, 0.95, axis=0),\n",
    "    np.quantile(results, 0.05, axis=0),\n",
    "    alpha=0.3,\n",
    "    color=colors[3],\n",
    ")\n",
    "\n",
    "############################\n",
    "######### AdaRaker #########\n",
    "############################\n",
    "plt.semilogy(\n",
    "    np.arange(1, len(adaraker_results) * 5, 5),\n",
    "    adaraker_results,\n",
    "    label=\"AdaRaker\",\n",
    "    color=colors[0],\n",
    ")\n",
    "\n",
    "if dataset == \"tom\":\n",
    "    plt.ylim(0.7e-3, 1e-1)\n",
    "plt.xlabel(\"# of observed data\")\n",
    "plt.ylabel(\"Running MSE\")\n",
    "plt.savefig(\"TomsHardwareResults.pdf\", bbox_inches=\"tight\")"
   ]
  },
  {
   "cell_type": "code",
   "execution_count": null,
   "metadata": {},
   "outputs": [],
   "source": []
  }
 ],
 "metadata": {
  "kernelspec": {
   "display_name": "usr",
   "language": "python",
   "name": "python3"
  },
  "language_info": {
   "codemirror_mode": {
    "name": "ipython",
    "version": 3
   },
   "file_extension": ".py",
   "mimetype": "text/x-python",
   "name": "python",
   "nbconvert_exporter": "python",
   "pygments_lexer": "ipython3",
   "version": "3.10.12"
  }
 },
 "nbformat": 4,
 "nbformat_minor": 2
}
